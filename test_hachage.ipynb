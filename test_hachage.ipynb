{
 "cells": [
  {
   "cell_type": "code",
   "execution_count": 1,
   "id": "de5e7cc2-8cad-4c8e-adc3-6d1e99ef38d3",
   "metadata": {},
   "outputs": [
    {
     "name": "stdout",
     "output_type": "stream",
     "text": [
      "type ('a, 'b) table_hachage = {\n",
      "  hache : 'a -> int;\n",
      "  donnees : ('a * 'b) list array;\n",
      "  largeur : int;\n",
      "}\n",
      "val creer : ('a -> int) -> int -> ('a, 'b) table_hachage = <fun>\n",
      "val recherche : ('a, 'b) table_hachage -> 'a -> bool = <fun>\n",
      "val element : ('a, 'b) table_hachage -> 'a -> 'b = <fun>\n",
      "val ajout : ('a, 'b) table_hachage -> 'a -> 'b -> unit = <fun>\n",
      "val suppr : ('a, 'b) table_hachage -> 'a -> unit = <fun>\n",
      "type ('a, 'b) table_dyn = {\n",
      "  hache : int -> 'a -> int;\n",
      "  mutable taille : int;\n",
      "  mutable donnees : ('a * 'b) list array;\n",
      "  mutable largeur : int;\n",
      "}\n",
      "val creer_dyn : (int -> 'a -> int) -> ('a, 'b) table_dyn = <fun>\n"
     ]
    }
   ],
   "source": [
    "#use \"hachage.ml\""
   ]
  },
  {
   "cell_type": "code",
   "execution_count": 2,
   "id": "f7e92f81-e3d5-421b-9436-c3d35ee01b92",
   "metadata": {},
   "outputs": [
    {
     "data": {
      "text/plain": [
       "val nt : (int, '_weak1) table_hachage =\n",
       "  {hache = <fun>;\n",
       "   donnees =\n",
       "    [|[]; []; []; []; []; []; []; []; []; []; []; []; []; []; []; []; \n",
       "      []; []; []; []; []; []; []; []; []; []; []; []; []; []; []; []; \n",
       "      []; []; []; []; []; []; []; []; []; []; []; []; []; []; []; []; \n",
       "      []; []; []; []; []; []; []; []; []; []; []; []; []; []; []; []; \n",
       "      []; []; []; []; []; []; []; []; []; []; []; []; []; []; []; []; \n",
       "      []; []; []; []; []; []; []; []; []; []; []; []; []; []; []; []; \n",
       "      []; []; []; []|];\n",
       "   largeur = 100}\n"
      ]
     },
     "execution_count": 2,
     "metadata": {},
     "output_type": "execute_result"
    }
   ],
   "source": [
    "let nt = creer (fun k -> k mod 100) 100;;"
   ]
  },
  {
   "cell_type": "code",
   "execution_count": 3,
   "id": "ed25ebf5-6777-4f44-88f7-d6e855068385",
   "metadata": {},
   "outputs": [
    {
     "data": {
      "text/plain": [
       "- : bool = false\n"
      ]
     },
     "execution_count": 3,
     "metadata": {},
     "output_type": "execute_result"
    }
   ],
   "source": [
    "recherche nt 3"
   ]
  },
  {
   "cell_type": "code",
   "execution_count": 4,
   "id": "1a69b6cd-7e40-42b4-bb71-65e4f0a1cf58",
   "metadata": {},
   "outputs": [
    {
     "ename": "error",
     "evalue": "runtime_error",
     "output_type": "error",
     "traceback": [
      "\u001b[31mException: Failure \"Pas d'élément\".\nRaised at file \"stdlib.ml\", line 29, characters 22-33\nCalled from file \"toplevel/toploop.ml\", line 208, characters 17-27\n\u001b[0m"
     ]
    }
   ],
   "source": [
    "element nt 3"
   ]
  },
  {
   "cell_type": "code",
   "execution_count": 5,
   "id": "3c1d8ef6-7d7b-43e4-b4f8-888d346b20a6",
   "metadata": {},
   "outputs": [
    {
     "data": {
      "text/plain": [
       "- : unit = ()\n"
      ]
     },
     "execution_count": 5,
     "metadata": {},
     "output_type": "execute_result"
    }
   ],
   "source": [
    "ajout nt 98 12"
   ]
  },
  {
   "cell_type": "code",
   "execution_count": 6,
   "id": "7249d9d5-7ab4-4abe-a579-62630efbe7b0",
   "metadata": {},
   "outputs": [
    {
     "data": {
      "text/plain": [
       "- : (int, int) table_hachage =\n",
       "{hache = <fun>;\n",
       " donnees =\n",
       "  [|[]; []; []; []; []; []; []; []; []; []; []; []; []; []; []; []; []; \n",
       "    []; []; []; []; []; []; []; []; []; []; []; []; []; []; []; []; []; \n",
       "    []; []; []; []; []; []; []; []; []; []; []; []; []; []; []; []; []; \n",
       "    []; []; []; []; []; []; []; []; []; []; []; []; []; []; []; []; []; \n",
       "    []; []; []; []; []; []; []; []; []; []; []; []; []; []; []; []; []; \n",
       "    []; []; []; []; []; []; []; []; []; []; []; []; []; [(98, 12)]; []|];\n",
       " largeur = 100}\n"
      ]
     },
     "execution_count": 6,
     "metadata": {},
     "output_type": "execute_result"
    }
   ],
   "source": [
    "nt"
   ]
  },
  {
   "cell_type": "code",
   "execution_count": 7,
   "id": "e1f495fa-b566-4f73-ba65-08ee45d3526c",
   "metadata": {},
   "outputs": [
    {
     "data": {
      "text/plain": [
       "- : bool = true\n"
      ]
     },
     "execution_count": 7,
     "metadata": {},
     "output_type": "execute_result"
    }
   ],
   "source": [
    "recherche nt 98"
   ]
  },
  {
   "cell_type": "code",
   "execution_count": 8,
   "id": "75b7920f-11e7-4c20-8a83-7151a94bbf86",
   "metadata": {},
   "outputs": [
    {
     "data": {
      "text/plain": [
       "- : int = 12\n"
      ]
     },
     "execution_count": 8,
     "metadata": {},
     "output_type": "execute_result"
    }
   ],
   "source": [
    "element nt 98"
   ]
  },
  {
   "cell_type": "code",
   "execution_count": 11,
   "id": "799af21e-dcf0-49ec-8b1e-ddb69aedbca2",
   "metadata": {},
   "outputs": [
    {
     "data": {
      "text/plain": [
       "- : unit = ()\n"
      ]
     },
     "execution_count": 11,
     "metadata": {},
     "output_type": "execute_result"
    }
   ],
   "source": [
    "suppr nt 98"
   ]
  },
  {
   "cell_type": "code",
   "execution_count": 12,
   "id": "1a636647-c18c-4efd-b333-8964f677c4e8",
   "metadata": {},
   "outputs": [
    {
     "data": {
      "text/plain": [
       "- : (int, int) table_hachage =\n",
       "{hache = <fun>;\n",
       " donnees =\n",
       "  [|[]; []; []; []; []; []; []; []; []; []; []; []; []; []; []; []; []; \n",
       "    []; []; []; []; []; []; []; []; []; []; []; []; []; []; []; []; []; \n",
       "    []; []; []; []; []; []; []; []; []; []; []; []; []; []; []; []; []; \n",
       "    []; []; []; []; []; []; []; []; []; []; []; []; []; []; []; []; []; \n",
       "    []; []; []; []; []; []; []; []; []; []; []; []; []; []; []; []; []; \n",
       "    []; []; []; []; []; []; []; []; []; []; []; []; []; []; []|];\n",
       " largeur = 100}\n"
      ]
     },
     "execution_count": 12,
     "metadata": {},
     "output_type": "execute_result"
    }
   ],
   "source": [
    "nt"
   ]
  },
  {
   "cell_type": "code",
   "execution_count": null,
   "id": "8d61bcb0-8719-428f-b73c-c526d2aab62b",
   "metadata": {},
   "outputs": [],
   "source": []
  }
 ],
 "metadata": {
  "kernelspec": {
   "display_name": "OCaml default",
   "language": "OCaml",
   "name": "ocaml-jupyter"
  },
  "language_info": {
   "codemirror_mode": "text/x-ocaml",
   "file_extension": ".ml",
   "mimetype": "text/x-ocaml",
   "name": "OCaml",
   "nbconverter_exporter": null,
   "pygments_lexer": "OCaml",
   "version": "4.08.1"
  }
 },
 "nbformat": 4,
 "nbformat_minor": 5
}
