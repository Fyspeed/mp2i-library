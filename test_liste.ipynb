{
 "cells": [
  {
   "cell_type": "code",
   "execution_count": 1,
   "id": "2f08daba-5a07-410c-918b-ce7ed4cea206",
   "metadata": {},
   "outputs": [
    {
     "name": "stdout",
     "output_type": "stream",
     "text": [
      "val mem : 'a list -> 'a -> bool = <fun>\n",
      "val iter : ('a -> 'b) -> 'a list -> unit = <fun>\n",
      "val filter : ('a -> bool) -> 'a list -> 'a list = <fun>\n",
      "val map : ('a -> 'b) -> 'a list -> 'b list = <fun>\n",
      "val f : int -> int = <fun>\n",
      "val range : int -> int list = <fun>\n",
      "val positif : int list -> bool = <fun>\n",
      "val pair : int list -> bool = <fun>\n",
      "val add : 'a -> 'a list list -> 'a list list = <fun>\n",
      "val parties : 'a list -> 'a list list = <fun>\n",
      "val somme : int list -> int = <fun>\n",
      "val decomposition : int -> int list -> int = <fun>\n",
      "val decomposition1 : int -> int list -> int list list = <fun>\n"
     ]
    }
   ],
   "source": [
    "#use \"list.ml\""
   ]
  },
  {
   "cell_type": "code",
   "execution_count": 2,
   "id": "85e32321-91ef-43e8-af14-9b533e91dade",
   "metadata": {},
   "outputs": [
    {
     "data": {
      "text/plain": [
       "- : bool = true\n"
      ]
     },
     "execution_count": 2,
     "metadata": {},
     "output_type": "execute_result"
    }
   ],
   "source": [
    "mem [0;1;2;3] 2"
   ]
  },
  {
   "cell_type": "code",
   "execution_count": 3,
   "id": "fc20bce1-3612-40d6-aa66-2d68a5fff2f8",
   "metadata": {},
   "outputs": [
    {
     "name": "stdout",
     "output_type": "stream",
     "text": [
      "0123\n"
     ]
    },
    {
     "data": {
      "text/plain": [
       "- : unit = ()\n"
      ]
     },
     "execution_count": 3,
     "metadata": {},
     "output_type": "execute_result"
    }
   ],
   "source": [
    "iter (print_int) [0;1;2;3];\n",
    "print_newline();"
   ]
  },
  {
   "cell_type": "code",
   "execution_count": 4,
   "id": "998ac386-6515-4ea8-9739-c9e6fe9df70e",
   "metadata": {},
   "outputs": [
    {
     "data": {
      "text/plain": [
       "- : int list = [1; 2]\n"
      ]
     },
     "execution_count": 4,
     "metadata": {},
     "output_type": "execute_result"
    }
   ],
   "source": [
    "filter (fun x -> if x > 0 then true else false) [0;1;2;-3]"
   ]
  },
  {
   "cell_type": "code",
   "execution_count": 5,
   "id": "f33940a9-51a7-43b8-95bd-73a12f33f12e",
   "metadata": {},
   "outputs": [
    {
     "data": {
      "text/plain": [
       "- : int = 6\n"
      ]
     },
     "execution_count": 5,
     "metadata": {},
     "output_type": "execute_result"
    }
   ],
   "source": [
    "somme [0;1;2;3]"
   ]
  },
  {
   "cell_type": "code",
   "execution_count": 6,
   "id": "85a29ee9-56c1-42a3-a1aa-abdf5862fe7e",
   "metadata": {},
   "outputs": [
    {
     "data": {
      "text/plain": [
       "- : int list = [0; 1; 2; 3; 4; 5]\n"
      ]
     },
     "execution_count": 6,
     "metadata": {},
     "output_type": "execute_result"
    }
   ],
   "source": [
    "range 5"
   ]
  },
  {
   "cell_type": "code",
   "execution_count": 7,
   "id": "0327a26f-859b-46f1-a563-5c7e3ebf10b4",
   "metadata": {},
   "outputs": [
    {
     "data": {
      "text/plain": [
       "- : int list = [0; 2; 4; -6]\n"
      ]
     },
     "execution_count": 7,
     "metadata": {},
     "output_type": "execute_result"
    }
   ],
   "source": [
    "map (fun x -> 2*x)  [0;1;2;-3]"
   ]
  },
  {
   "cell_type": "code",
   "execution_count": 8,
   "id": "cfa3aee7-f27a-43c4-be78-3be03b0205aa",
   "metadata": {},
   "outputs": [
    {
     "data": {
      "text/plain": [
       "- : bool = false\n"
      ]
     },
     "execution_count": 8,
     "metadata": {},
     "output_type": "execute_result"
    }
   ],
   "source": [
    "positif [4;2;2;-3]"
   ]
  },
  {
   "cell_type": "code",
   "execution_count": 9,
   "id": "4e17c5ae-1a51-441c-90cd-7ce543f22669",
   "metadata": {},
   "outputs": [
    {
     "data": {
      "text/plain": [
       "- : bool = true\n"
      ]
     },
     "execution_count": 9,
     "metadata": {},
     "output_type": "execute_result"
    }
   ],
   "source": [
    "positif [4;2;2;3]"
   ]
  },
  {
   "cell_type": "code",
   "execution_count": 10,
   "id": "932b97e7-73e1-4606-a767-0f409919ed2c",
   "metadata": {},
   "outputs": [
    {
     "data": {
      "text/plain": [
       "- : bool = true\n"
      ]
     },
     "execution_count": 10,
     "metadata": {},
     "output_type": "execute_result"
    }
   ],
   "source": [
    "pair [5;3;3;2]"
   ]
  },
  {
   "cell_type": "code",
   "execution_count": 11,
   "id": "bc96d845-07df-4fe6-a76a-eb00db7b5e37",
   "metadata": {},
   "outputs": [
    {
     "data": {
      "text/plain": [
       "- : bool = false\n"
      ]
     },
     "execution_count": 11,
     "metadata": {},
     "output_type": "execute_result"
    }
   ],
   "source": [
    "pair [5;3;3;3]"
   ]
  },
  {
   "cell_type": "code",
   "execution_count": 12,
   "id": "2d38cec3-ac61-4764-9a51-2ea09b4861a3",
   "metadata": {},
   "outputs": [
    {
     "data": {
      "text/plain": [
       "- : int list list = [[2; 1; 2]; [2; 7; 4]]\n"
      ]
     },
     "execution_count": 12,
     "metadata": {},
     "output_type": "execute_result"
    }
   ],
   "source": [
    "add 2 [[1; 2]; [7; 4]]"
   ]
  },
  {
   "cell_type": "code",
   "execution_count": 13,
   "id": "9275c910-d073-406d-9fc9-6b814b0af786",
   "metadata": {},
   "outputs": [
    {
     "data": {
      "text/plain": [
       "- : int list list = [[]; [1]; [2]; [2; 1]; [1]; [1; 1]; [1; 2]; [1; 2; 1]]\n"
      ]
     },
     "execution_count": 13,
     "metadata": {},
     "output_type": "execute_result"
    }
   ],
   "source": [
    "parties [1;2;1]"
   ]
  },
  {
   "cell_type": "code",
   "execution_count": 14,
   "id": "48648cfa-5d7f-411a-af7b-0edaf4a67ce9",
   "metadata": {},
   "outputs": [
    {
     "data": {
      "text/plain": [
       "- : int = 2\n"
      ]
     },
     "execution_count": 14,
     "metadata": {},
     "output_type": "execute_result"
    }
   ],
   "source": [
    "decomposition 6 [1;2;3;5]"
   ]
  },
  {
   "cell_type": "code",
   "execution_count": 15,
   "id": "bbcd66f2-eced-4aa5-a62f-c945cc524ca9",
   "metadata": {},
   "outputs": [
    {
     "data": {
      "text/plain": [
       "- : int list list = [[1; 5]; [1; 2; 3]]\n"
      ]
     },
     "execution_count": 15,
     "metadata": {},
     "output_type": "execute_result"
    }
   ],
   "source": [
    "decomposition1 6 [1;2;3;5]"
   ]
  },
  {
   "cell_type": "code",
   "execution_count": null,
   "id": "11f5f300-08b0-449b-b505-631631f2eaa1",
   "metadata": {},
   "outputs": [],
   "source": []
  }
 ],
 "metadata": {
  "kernelspec": {
   "display_name": "OCaml default",
   "language": "OCaml",
   "name": "ocaml-jupyter"
  },
  "language_info": {
   "codemirror_mode": "text/x-ocaml",
   "file_extension": ".ml",
   "mimetype": "text/x-ocaml",
   "name": "OCaml",
   "nbconverter_exporter": null,
   "pygments_lexer": "OCaml",
   "version": "4.08.1"
  }
 },
 "nbformat": 4,
 "nbformat_minor": 5
}
